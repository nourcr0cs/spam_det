{
 "cells": [
  {
   "cell_type": "code",
   "execution_count": 61,
   "id": "85bdbe36-88ab-4671-b685-96936f0cd85c",
   "metadata": {},
   "outputs": [
    {
     "data": {
      "text/html": [
       "<div>\n",
       "<style scoped>\n",
       "    .dataframe tbody tr th:only-of-type {\n",
       "        vertical-align: middle;\n",
       "    }\n",
       "\n",
       "    .dataframe tbody tr th {\n",
       "        vertical-align: top;\n",
       "    }\n",
       "\n",
       "    .dataframe thead th {\n",
       "        text-align: right;\n",
       "    }\n",
       "</style>\n",
       "<table border=\"1\" class=\"dataframe\">\n",
       "  <thead>\n",
       "    <tr style=\"text-align: right;\">\n",
       "      <th></th>\n",
       "      <th>v1</th>\n",
       "      <th>v2</th>\n",
       "    </tr>\n",
       "  </thead>\n",
       "  <tbody>\n",
       "    <tr>\n",
       "      <th>0</th>\n",
       "      <td>0</td>\n",
       "      <td>go jurong point crazy available bugis n great ...</td>\n",
       "    </tr>\n",
       "    <tr>\n",
       "      <th>1</th>\n",
       "      <td>0</td>\n",
       "      <td>ok lar joking wif u oni</td>\n",
       "    </tr>\n",
       "    <tr>\n",
       "      <th>2</th>\n",
       "      <td>1</td>\n",
       "      <td>free entry 2 wkly comp win fa cup final tkts 2...</td>\n",
       "    </tr>\n",
       "    <tr>\n",
       "      <th>3</th>\n",
       "      <td>0</td>\n",
       "      <td>u dun say early hor u c already say</td>\n",
       "    </tr>\n",
       "    <tr>\n",
       "      <th>4</th>\n",
       "      <td>0</td>\n",
       "      <td>nah dont think goes usf lives around though</td>\n",
       "    </tr>\n",
       "    <tr>\n",
       "      <th>...</th>\n",
       "      <td>...</td>\n",
       "      <td>...</td>\n",
       "    </tr>\n",
       "    <tr>\n",
       "      <th>5567</th>\n",
       "      <td>1</td>\n",
       "      <td>2nd time tried 2 contact u u å£750 pound prize...</td>\n",
       "    </tr>\n",
       "    <tr>\n",
       "      <th>5568</th>\n",
       "      <td>0</td>\n",
       "      <td>ì b going esplanade fr home</td>\n",
       "    </tr>\n",
       "    <tr>\n",
       "      <th>5569</th>\n",
       "      <td>0</td>\n",
       "      <td>pity mood soany suggestions</td>\n",
       "    </tr>\n",
       "    <tr>\n",
       "      <th>5570</th>\n",
       "      <td>0</td>\n",
       "      <td>guy bitching acted like id interested buying s...</td>\n",
       "    </tr>\n",
       "    <tr>\n",
       "      <th>5571</th>\n",
       "      <td>0</td>\n",
       "      <td>rofl true name</td>\n",
       "    </tr>\n",
       "  </tbody>\n",
       "</table>\n",
       "<p>5572 rows × 2 columns</p>\n",
       "</div>"
      ],
      "text/plain": [
       "      v1                                                 v2\n",
       "0      0  go jurong point crazy available bugis n great ...\n",
       "1      0                            ok lar joking wif u oni\n",
       "2      1  free entry 2 wkly comp win fa cup final tkts 2...\n",
       "3      0                u dun say early hor u c already say\n",
       "4      0        nah dont think goes usf lives around though\n",
       "...   ..                                                ...\n",
       "5567   1  2nd time tried 2 contact u u å£750 pound prize...\n",
       "5568   0                        ì b going esplanade fr home\n",
       "5569   0                        pity mood soany suggestions\n",
       "5570   0  guy bitching acted like id interested buying s...\n",
       "5571   0                                     rofl true name\n",
       "\n",
       "[5572 rows x 2 columns]"
      ]
     },
     "execution_count": 61,
     "metadata": {},
     "output_type": "execute_result"
    }
   ],
   "source": [
    "import pandas as pd\n",
    "import string\n",
    "import re\n",
    "import nltk\n",
    "from nltk.corpus import stopwords\n",
    "from sklearn.preprocessing import LabelEncoder\n",
    "from sklearn.feature_extraction.text import CountVectorizer\n",
    "from nltk import tokenize\n",
    "\n",
    "d_set = pd.read_csv(r\"C:\\Users\\pc\\Desktop\\spam.csv\", encoding=\"ISO-8859-1\")\n",
    "label_encoder = LabelEncoder()\n",
    "d_set['v1'] = label_encoder.fit_transform(d_set['v1'])\n",
    "#removing null values\n",
    "d_set = d_set.dropna(axis=1, how='any') \n",
    "\n",
    "# lowercasing\n",
    "d_set['v2'] = d_set['v2'].str.lower()\n",
    "\n",
    "# removing stop words and stemmers \n",
    "# init \n",
    "stop_words = set(stopwords.words('english'))\n",
    "\n",
    "def remove_swp(text):\n",
    "    # remove punctuation\n",
    "    text = ''.join([char for char in text if char not in string.punctuation])\n",
    "    # remove stopwords \n",
    "    return \" \".join([word for word in text.split() if word.lower() not in stop_words])\n",
    "d_set['v2'] = d_set['v2'].apply(remove_swp)\n",
    "\n",
    "d_set"
   ]
  },
  {
   "cell_type": "code",
   "execution_count": null,
   "id": "cacf0c8d-0909-4628-bf5d-1c7c00fad753",
   "metadata": {},
   "outputs": [],
   "source": [
    "from nltk.tokenize import word_tokenize\n",
    "from sklearn.feature_extraction.text import CountVectorizer, TfidfVectorizer\n",
    "c = CountVectorizer()\n",
    "tfid = TfidfVectorizer(max_features = 3000)\n",
    "#removing pct and numbers\n",
    "def remove_np(text):\n",
    "   return re.sub(r'\\d+', '', text)\n",
    "d_set['v2'] = d_set['v2'].apply(remove_np)\n",
    "\n",
    "# Tokenize\n",
    "def tokenize_text(text):\n",
    "    return word_tokenize(text)\n",
    "d_set['v3'] = d_set['v2'].apply(tokenize_text)\n",
    "\n",
    "d_set "
   ]
  },
  {
   "cell_type": "code",
   "execution_count": 67,
   "id": "476a133f-5fad-40d6-9907-6172a0328876",
   "metadata": {},
   "outputs": [
    {
     "data": {
      "text/plain": [
       "array([[0, 0, 0, ..., 0, 0, 0],\n",
       "       [0, 0, 0, ..., 0, 0, 0],\n",
       "       [0, 0, 0, ..., 0, 0, 0],\n",
       "       ...,\n",
       "       [0, 0, 0, ..., 0, 0, 0],\n",
       "       [0, 0, 0, ..., 0, 0, 0],\n",
       "       [0, 0, 0, ..., 0, 0, 0]], dtype=int64)"
      ]
     },
     "execution_count": 67,
     "metadata": {},
     "output_type": "execute_result"
    }
   ],
   "source": [
    "# single string\n",
    "d_set['v3'] = d_set['v3'].apply(lambda x: ' '.join(x))\n",
    "X = tfid.fit_transform(d_set['v3']).toarray()\n",
    "X_array"
   ]
  },
  {
   "cell_type": "code",
   "execution_count": 73,
   "id": "51521835-8daf-48d0-9b98-324cba5b59fc",
   "metadata": {},
   "outputs": [
    {
     "data": {
      "text/plain": [
       "'X-Train :'"
      ]
     },
     "metadata": {},
     "output_type": "display_data"
    },
    {
     "data": {
      "text/plain": [
       "(4457, 8460)"
      ]
     },
     "metadata": {},
     "output_type": "display_data"
    },
    {
     "data": {
      "text/plain": [
       "'X-Test :'"
      ]
     },
     "metadata": {},
     "output_type": "display_data"
    },
    {
     "data": {
      "text/plain": [
       "(1115, 8460)"
      ]
     },
     "metadata": {},
     "output_type": "display_data"
    },
    {
     "data": {
      "text/plain": [
       "'Y-Train :'"
      ]
     },
     "metadata": {},
     "output_type": "display_data"
    },
    {
     "data": {
      "text/plain": [
       "(4457,)"
      ]
     },
     "metadata": {},
     "output_type": "display_data"
    },
    {
     "data": {
      "text/plain": [
       "'X-Test :'"
      ]
     },
     "metadata": {},
     "output_type": "display_data"
    },
    {
     "data": {
      "text/plain": [
       "(1115,)"
      ]
     },
     "metadata": {},
     "output_type": "display_data"
    }
   ],
   "source": [
    "from sklearn.model_selection import train_test_split\n",
    "from sklearn.naive_bayes import BernoulliNB\n",
    "import joblib\n",
    "from sklearn.metrics import accuracy_score\n",
    "\n",
    "\n",
    "X_train, X_test, y_train, y_test = train_test_split(X_array, d_set['v1'], test_size=0.2, random_state = 2)\n",
    "\n",
    "# bayes\n",
    "model = BernoulliNB()\n",
    "model.fit(X_train, y_train)\n",
    "\n",
    "joblib.dump(model, 'spam_detection.joblib')\n",
    "joblib.dump(c, 'spam_count.joblib')\n",
    "y_pred = model.predict(X_test)\n",
    "score = accuracy_score(y_test, y_pred)\n",
    "display('X-Train :', X_train.shape)\n",
    "display('X-Test :',X_test.shape)\n",
    "display('Y-Train :',y_train.shape)\n",
    "display('X-Test :',y_test.shape)"
   ]
  },
  {
   "cell_type": "code",
   "execution_count": null,
   "id": "3378df5d-11eb-46a3-82ac-232a27c2b9f6",
   "metadata": {},
   "outputs": [],
   "source": []
  }
 ],
 "metadata": {
  "kernelspec": {
   "display_name": "Python 3 (ipykernel)",
   "language": "python",
   "name": "python3"
  },
  "language_info": {
   "codemirror_mode": {
    "name": "ipython",
    "version": 3
   },
   "file_extension": ".py",
   "mimetype": "text/x-python",
   "name": "python",
   "nbconvert_exporter": "python",
   "pygments_lexer": "ipython3",
   "version": "3.12.7"
  }
 },
 "nbformat": 4,
 "nbformat_minor": 5
}
